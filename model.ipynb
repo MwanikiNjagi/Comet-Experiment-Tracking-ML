{
 "cells": [
  {
   "cell_type": "code",
   "execution_count": 8,
   "metadata": {},
   "outputs": [
    {
     "data": {
      "text/html": [
       "<div>\n",
       "<style scoped>\n",
       "    .dataframe tbody tr th:only-of-type {\n",
       "        vertical-align: middle;\n",
       "    }\n",
       "\n",
       "    .dataframe tbody tr th {\n",
       "        vertical-align: top;\n",
       "    }\n",
       "\n",
       "    .dataframe thead th {\n",
       "        text-align: right;\n",
       "    }\n",
       "</style>\n",
       "<table border=\"1\" class=\"dataframe\">\n",
       "  <thead>\n",
       "    <tr style=\"text-align: right;\">\n",
       "      <th></th>\n",
       "      <th>sepal length (cm)</th>\n",
       "      <th>sepal width (cm)</th>\n",
       "      <th>petal length (cm)</th>\n",
       "      <th>petal width (cm)</th>\n",
       "      <th>target</th>\n",
       "    </tr>\n",
       "  </thead>\n",
       "  <tbody>\n",
       "    <tr>\n",
       "      <th>0</th>\n",
       "      <td>5.1</td>\n",
       "      <td>3.5</td>\n",
       "      <td>1.4</td>\n",
       "      <td>0.2</td>\n",
       "      <td>0.0</td>\n",
       "    </tr>\n",
       "    <tr>\n",
       "      <th>1</th>\n",
       "      <td>4.9</td>\n",
       "      <td>3.0</td>\n",
       "      <td>1.4</td>\n",
       "      <td>0.2</td>\n",
       "      <td>0.0</td>\n",
       "    </tr>\n",
       "    <tr>\n",
       "      <th>2</th>\n",
       "      <td>4.7</td>\n",
       "      <td>3.2</td>\n",
       "      <td>1.3</td>\n",
       "      <td>0.2</td>\n",
       "      <td>0.0</td>\n",
       "    </tr>\n",
       "    <tr>\n",
       "      <th>3</th>\n",
       "      <td>4.6</td>\n",
       "      <td>3.1</td>\n",
       "      <td>1.5</td>\n",
       "      <td>0.2</td>\n",
       "      <td>0.0</td>\n",
       "    </tr>\n",
       "    <tr>\n",
       "      <th>4</th>\n",
       "      <td>5.0</td>\n",
       "      <td>3.6</td>\n",
       "      <td>1.4</td>\n",
       "      <td>0.2</td>\n",
       "      <td>0.0</td>\n",
       "    </tr>\n",
       "    <tr>\n",
       "      <th>...</th>\n",
       "      <td>...</td>\n",
       "      <td>...</td>\n",
       "      <td>...</td>\n",
       "      <td>...</td>\n",
       "      <td>...</td>\n",
       "    </tr>\n",
       "    <tr>\n",
       "      <th>145</th>\n",
       "      <td>6.7</td>\n",
       "      <td>3.0</td>\n",
       "      <td>5.2</td>\n",
       "      <td>2.3</td>\n",
       "      <td>2.0</td>\n",
       "    </tr>\n",
       "    <tr>\n",
       "      <th>146</th>\n",
       "      <td>6.3</td>\n",
       "      <td>2.5</td>\n",
       "      <td>5.0</td>\n",
       "      <td>1.9</td>\n",
       "      <td>2.0</td>\n",
       "    </tr>\n",
       "    <tr>\n",
       "      <th>147</th>\n",
       "      <td>6.5</td>\n",
       "      <td>3.0</td>\n",
       "      <td>5.2</td>\n",
       "      <td>2.0</td>\n",
       "      <td>2.0</td>\n",
       "    </tr>\n",
       "    <tr>\n",
       "      <th>148</th>\n",
       "      <td>6.2</td>\n",
       "      <td>3.4</td>\n",
       "      <td>5.4</td>\n",
       "      <td>2.3</td>\n",
       "      <td>2.0</td>\n",
       "    </tr>\n",
       "    <tr>\n",
       "      <th>149</th>\n",
       "      <td>5.9</td>\n",
       "      <td>3.0</td>\n",
       "      <td>5.1</td>\n",
       "      <td>1.8</td>\n",
       "      <td>2.0</td>\n",
       "    </tr>\n",
       "  </tbody>\n",
       "</table>\n",
       "<p>150 rows × 5 columns</p>\n",
       "</div>"
      ],
      "text/plain": [
       "     sepal length (cm)  sepal width (cm)  petal length (cm)  petal width (cm)  \\\n",
       "0                  5.1               3.5                1.4               0.2   \n",
       "1                  4.9               3.0                1.4               0.2   \n",
       "2                  4.7               3.2                1.3               0.2   \n",
       "3                  4.6               3.1                1.5               0.2   \n",
       "4                  5.0               3.6                1.4               0.2   \n",
       "..                 ...               ...                ...               ...   \n",
       "145                6.7               3.0                5.2               2.3   \n",
       "146                6.3               2.5                5.0               1.9   \n",
       "147                6.5               3.0                5.2               2.0   \n",
       "148                6.2               3.4                5.4               2.3   \n",
       "149                5.9               3.0                5.1               1.8   \n",
       "\n",
       "     target  \n",
       "0       0.0  \n",
       "1       0.0  \n",
       "2       0.0  \n",
       "3       0.0  \n",
       "4       0.0  \n",
       "..      ...  \n",
       "145     2.0  \n",
       "146     2.0  \n",
       "147     2.0  \n",
       "148     2.0  \n",
       "149     2.0  \n",
       "\n",
       "[150 rows x 5 columns]"
      ]
     },
     "execution_count": 8,
     "metadata": {},
     "output_type": "execute_result"
    }
   ],
   "source": [
    "import pandas as pd\n",
    "from sklearn import datasets\n",
    "import numpy as np\n",
    "\n",
    "#Taking it in as an np array\n",
    "df = datasets.load_iris()\n",
    "\n",
    "#converting it to a pandas dataframe\n",
    "df = pd.DataFrame(data=np.c_[df['data'], df['target']],\n",
    "                  columns= df['feature_names'] + ['target']) \n",
    "\n",
    "df\n"
   ]
  },
  {
   "cell_type": "code",
   "execution_count": 3,
   "metadata": {},
   "outputs": [
    {
     "data": {
      "text/html": [
       "<div>\n",
       "<style scoped>\n",
       "    .dataframe tbody tr th:only-of-type {\n",
       "        vertical-align: middle;\n",
       "    }\n",
       "\n",
       "    .dataframe tbody tr th {\n",
       "        vertical-align: top;\n",
       "    }\n",
       "\n",
       "    .dataframe thead th {\n",
       "        text-align: right;\n",
       "    }\n",
       "</style>\n",
       "<table border=\"1\" class=\"dataframe\">\n",
       "  <thead>\n",
       "    <tr style=\"text-align: right;\">\n",
       "      <th></th>\n",
       "      <th>sepal length (cm)</th>\n",
       "      <th>sepal width (cm)</th>\n",
       "      <th>petal length (cm)</th>\n",
       "      <th>petal width (cm)</th>\n",
       "      <th>target</th>\n",
       "    </tr>\n",
       "  </thead>\n",
       "  <tbody>\n",
       "    <tr>\n",
       "      <th>count</th>\n",
       "      <td>150.000000</td>\n",
       "      <td>150.000000</td>\n",
       "      <td>150.000000</td>\n",
       "      <td>150.000000</td>\n",
       "      <td>150.000000</td>\n",
       "    </tr>\n",
       "    <tr>\n",
       "      <th>mean</th>\n",
       "      <td>5.843333</td>\n",
       "      <td>3.057333</td>\n",
       "      <td>3.758000</td>\n",
       "      <td>1.199333</td>\n",
       "      <td>1.000000</td>\n",
       "    </tr>\n",
       "    <tr>\n",
       "      <th>std</th>\n",
       "      <td>0.828066</td>\n",
       "      <td>0.435866</td>\n",
       "      <td>1.765298</td>\n",
       "      <td>0.762238</td>\n",
       "      <td>0.819232</td>\n",
       "    </tr>\n",
       "    <tr>\n",
       "      <th>min</th>\n",
       "      <td>4.300000</td>\n",
       "      <td>2.000000</td>\n",
       "      <td>1.000000</td>\n",
       "      <td>0.100000</td>\n",
       "      <td>0.000000</td>\n",
       "    </tr>\n",
       "    <tr>\n",
       "      <th>25%</th>\n",
       "      <td>5.100000</td>\n",
       "      <td>2.800000</td>\n",
       "      <td>1.600000</td>\n",
       "      <td>0.300000</td>\n",
       "      <td>0.000000</td>\n",
       "    </tr>\n",
       "    <tr>\n",
       "      <th>50%</th>\n",
       "      <td>5.800000</td>\n",
       "      <td>3.000000</td>\n",
       "      <td>4.350000</td>\n",
       "      <td>1.300000</td>\n",
       "      <td>1.000000</td>\n",
       "    </tr>\n",
       "    <tr>\n",
       "      <th>75%</th>\n",
       "      <td>6.400000</td>\n",
       "      <td>3.300000</td>\n",
       "      <td>5.100000</td>\n",
       "      <td>1.800000</td>\n",
       "      <td>2.000000</td>\n",
       "    </tr>\n",
       "    <tr>\n",
       "      <th>max</th>\n",
       "      <td>7.900000</td>\n",
       "      <td>4.400000</td>\n",
       "      <td>6.900000</td>\n",
       "      <td>2.500000</td>\n",
       "      <td>2.000000</td>\n",
       "    </tr>\n",
       "  </tbody>\n",
       "</table>\n",
       "</div>"
      ],
      "text/plain": [
       "       sepal length (cm)  sepal width (cm)  petal length (cm)  \\\n",
       "count         150.000000        150.000000         150.000000   \n",
       "mean            5.843333          3.057333           3.758000   \n",
       "std             0.828066          0.435866           1.765298   \n",
       "min             4.300000          2.000000           1.000000   \n",
       "25%             5.100000          2.800000           1.600000   \n",
       "50%             5.800000          3.000000           4.350000   \n",
       "75%             6.400000          3.300000           5.100000   \n",
       "max             7.900000          4.400000           6.900000   \n",
       "\n",
       "       petal width (cm)      target  \n",
       "count        150.000000  150.000000  \n",
       "mean           1.199333    1.000000  \n",
       "std            0.762238    0.819232  \n",
       "min            0.100000    0.000000  \n",
       "25%            0.300000    0.000000  \n",
       "50%            1.300000    1.000000  \n",
       "75%            1.800000    2.000000  \n",
       "max            2.500000    2.000000  "
      ]
     },
     "execution_count": 3,
     "metadata": {},
     "output_type": "execute_result"
    }
   ],
   "source": [
    "df.describe()"
   ]
  },
  {
   "cell_type": "code",
   "execution_count": 4,
   "metadata": {},
   "outputs": [
    {
     "data": {
      "text/plain": [
       "0.0    50\n",
       "1.0    50\n",
       "2.0    50\n",
       "Name: target, dtype: int64"
      ]
     },
     "execution_count": 4,
     "metadata": {},
     "output_type": "execute_result"
    }
   ],
   "source": [
    "df.target.value_counts()"
   ]
  },
  {
   "cell_type": "code",
   "execution_count": 9,
   "metadata": {},
   "outputs": [],
   "source": [
    "#defining X and y\n",
    "X = df.drop(['target'], axis=1)\n",
    "y = df['target']\n"
   ]
  },
  {
   "cell_type": "code",
   "execution_count": 38,
   "metadata": {},
   "outputs": [
    {
     "name": "stderr",
     "output_type": "stream",
     "text": [
      "COMET INFO: Comet API key is valid\n",
      "COMET WARNING: Comet has disabled auto-logging functionality as it has been imported after the following ML modules: sklearn. Metrics and hyperparameters can still be logged using Experiment.log_metrics() and Experiment.log_parameters()\n",
      "COMET WARNING: As you are running in a Jupyter environment, you will need to call `experiment.end()` when finished to ensure all metrics and code are logged before exiting.\n"
     ]
    },
    {
     "name": "stdout",
     "output_type": "stream",
     "text": [
      "0.9533333333333334\n"
     ]
    },
    {
     "name": "stderr",
     "output_type": "stream",
     "text": [
      "COMET ERROR: Run will not be logged \n",
      "For more details, please refer to: https://www.comet.com/docs/python-sdk/warnings-errors/\n",
      "Traceback (most recent call last):\n",
      "  File \"/home/mwaniki-new/.local/lib/python3.10/site-packages/comet_ml/experiment.py\", line 975, in _start\n",
      "    self.alive = self._setup_streamer()\n",
      "  File \"/home/mwaniki-new/.local/lib/python3.10/site-packages/comet_ml/_online.py\", line 329, in _setup_streamer\n",
      "    self._initialize_streamer(\n",
      "  File \"/home/mwaniki-new/.local/lib/python3.10/site-packages/comet_ml/_online.py\", line 435, in _initialize_streamer\n",
      "    self.ws_connection.wait_for_connection()\n",
      "  File \"/home/mwaniki-new/.local/lib/python3.10/site-packages/comet_ml/connection.py\", line 1411, in wait_for_connection\n",
      "    raise ValueError(\"Could not connect to server after multiple tries.\")\n",
      "ValueError: Could not connect to server after multiple tries.\n"
     ]
    }
   ],
   "source": [
    "from sklearn.model_selection import cross_val_score\n",
    "from sklearn.neighbors import KNeighborsClassifier\n",
    "from sklearn.model_selection import StratifiedKFold\n",
    "from numpy import mean\n",
    "from joblib import dump\n",
    "from comet_ml import API, Experiment\n",
    "import comet_ml\n",
    "comet_ml.init(project_name=\"model_tracking\")\n",
    "\n",
    "model  = KNeighborsClassifier(n_neighbors=3)\n",
    "\n",
    "def cross_val_eval(model, X, y):\n",
    "    cv = StratifiedKFold(n_splits=5, shuffle=True, random_state=5)\n",
    "    cv_scores = cross_val_score(model, X, y, cv = cv, scoring='accuracy', n_jobs=-1, error_score='raise')\n",
    "    return cv_scores\n",
    "\n",
    "cv_scores = cross_val_eval(model, X, y)\n",
    "print(mean(cv_scores))\n",
    "\n",
    "model.fit(X, y)\n",
    "dump(model, 'model.joblib')\n",
    "\n",
    "experiment = Experiment()\n",
    "experiment.log_model(\"model1\", \"/home/mwaniki-new/Documents/Stacking/model.joblib\")\n",
    "\n",
    "experiment.end()\n"
   ]
  },
  {
   "cell_type": "code",
   "execution_count": 37,
   "metadata": {},
   "outputs": [
    {
     "ename": "CometRestApiException",
     "evalue": "POST https://www.comet.com/api/rest/v2/write/registry-model/item failed with status code 405: Registry Model Versions must be unique to promote experiment model.",
     "output_type": "error",
     "traceback": [
      "\u001b[0;31m---------------------------------------------------------------------------\u001b[0m",
      "\u001b[0;31mCometRestApiException\u001b[0m                     Traceback (most recent call last)",
      "Cell \u001b[0;32mIn[37], line 3\u001b[0m\n\u001b[1;32m      1\u001b[0m api\u001b[39m=\u001b[39m API()\n\u001b[1;32m      2\u001b[0m experiment \u001b[39m=\u001b[39m api\u001b[39m.\u001b[39mget(\u001b[39m\"\u001b[39m\u001b[39mmwanikinjagi/model-tracking/intact_silo_3082\u001b[39m\u001b[39m\"\u001b[39m)\n\u001b[0;32m----> 3\u001b[0m experiment\u001b[39m.\u001b[39;49mregister_model(\u001b[39m\"\u001b[39;49m\u001b[39mmodel1\u001b[39;49m\u001b[39m\"\u001b[39;49m)\n",
      "File \u001b[0;32m~/.local/lib/python3.10/site-packages/comet_ml/api.py:1535\u001b[0m, in \u001b[0;36mAPIExperiment.register_model\u001b[0;34m(self, model_name, version, workspace, registry_name, public, description, comment, stages)\u001b[0m\n\u001b[1;32m   1533\u001b[0m     \u001b[39mif\u001b[39;00m registry_name \u001b[39mis\u001b[39;00m \u001b[39mNone\u001b[39;00m:\n\u001b[1;32m   1534\u001b[0m         registry_name \u001b[39m=\u001b[39m model_name\n\u001b[0;32m-> 1535\u001b[0m     response \u001b[39m=\u001b[39m \u001b[39mself\u001b[39;49m\u001b[39m.\u001b[39;49m_api\u001b[39m.\u001b[39;49m_client\u001b[39m.\u001b[39;49mregister_model(\n\u001b[1;32m   1536\u001b[0m         \u001b[39mself\u001b[39;49m\u001b[39m.\u001b[39;49mid,\n\u001b[1;32m   1537\u001b[0m         model_name,\n\u001b[1;32m   1538\u001b[0m         version,\n\u001b[1;32m   1539\u001b[0m         workspace \u001b[39mor\u001b[39;49;00m \u001b[39mself\u001b[39;49m\u001b[39m.\u001b[39;49mworkspace,\n\u001b[1;32m   1540\u001b[0m         registry_name,\n\u001b[1;32m   1541\u001b[0m         public,\n\u001b[1;32m   1542\u001b[0m         description,\n\u001b[1;32m   1543\u001b[0m         comment,\n\u001b[1;32m   1544\u001b[0m         stages,\n\u001b[1;32m   1545\u001b[0m     )\n\u001b[1;32m   1546\u001b[0m \u001b[39mexcept\u001b[39;00m CometRestApiException \u001b[39mas\u001b[39;00m exc:\n\u001b[1;32m   1547\u001b[0m     INVALID_VERSION_STRING \u001b[39m=\u001b[39m \u001b[39m42001\u001b[39m\n",
      "File \u001b[0;32m~/.local/lib/python3.10/site-packages/comet_ml/connection.py:4052\u001b[0m, in \u001b[0;36mRestApiClient.register_model\u001b[0;34m(self, experiment_id, model_name, version, workspace, registry_name, public, description, comment, stages)\u001b[0m\n\u001b[1;32m   4048\u001b[0m         LOGGER\u001b[39m.\u001b[39mwarning(\n\u001b[1;32m   4049\u001b[0m             \u001b[39m\"\u001b[39m\u001b[39mThe argument \u001b[39m\u001b[39m'\u001b[39m\u001b[39mpublic\u001b[39m\u001b[39m'\u001b[39m\u001b[39m was given, but ignored when adding a new registry model version\u001b[39m\u001b[39m\"\u001b[39m\n\u001b[1;32m   4050\u001b[0m         )\n\u001b[1;32m   4051\u001b[0m     \u001b[39m# Update:\u001b[39;00m\n\u001b[0;32m-> 4052\u001b[0m     response \u001b[39m=\u001b[39m \u001b[39mself\u001b[39;49m\u001b[39m.\u001b[39;49mpost_from_endpoint(\n\u001b[1;32m   4053\u001b[0m         \u001b[39m\"\u001b[39;49m\u001b[39mwrite/registry-model/item\u001b[39;49m\u001b[39m\"\u001b[39;49m, payload\u001b[39m=\u001b[39;49mpayload\n\u001b[1;32m   4054\u001b[0m     )\n\u001b[1;32m   4055\u001b[0m \u001b[39melse\u001b[39;00m:\n\u001b[1;32m   4056\u001b[0m     \u001b[39m# Create:\u001b[39;00m\n\u001b[1;32m   4057\u001b[0m     response \u001b[39m=\u001b[39m \u001b[39mself\u001b[39m\u001b[39m.\u001b[39mpost_from_endpoint(\n\u001b[1;32m   4058\u001b[0m         \u001b[39m\"\u001b[39m\u001b[39mwrite/registry-model\u001b[39m\u001b[39m\"\u001b[39m, payload\u001b[39m=\u001b[39mpayload\n\u001b[1;32m   4059\u001b[0m     )\n",
      "File \u001b[0;32m~/.local/lib/python3.10/site-packages/comet_ml/connection.py:4471\u001b[0m, in \u001b[0;36mRestApiClientWithCache.post_from_endpoint\u001b[0;34m(self, endpoint, payload, alternate_base_url, **kwargs)\u001b[0m\n\u001b[1;32m   4460\u001b[0m \u001b[39mdef\u001b[39;00m \u001b[39mpost_from_endpoint\u001b[39m(\n\u001b[1;32m   4461\u001b[0m     \u001b[39mself\u001b[39m,\n\u001b[1;32m   4462\u001b[0m     endpoint,  \u001b[39m# type: str\u001b[39;00m\n\u001b[0;32m   (...)\u001b[0m\n\u001b[1;32m   4466\u001b[0m ):\n\u001b[1;32m   4467\u001b[0m     \u001b[39m# type: (...) -> Any\u001b[39;00m\n\u001b[1;32m   4468\u001b[0m     \u001b[39m\"\"\"\u001b[39;00m\n\u001b[1;32m   4469\u001b[0m \u001b[39m    Wrapper that clears the cache after posting.\u001b[39;00m\n\u001b[1;32m   4470\u001b[0m \u001b[39m    \"\"\"\u001b[39;00m\n\u001b[0;32m-> 4471\u001b[0m     response \u001b[39m=\u001b[39m \u001b[39msuper\u001b[39;49m(RestApiClientWithCache, \u001b[39mself\u001b[39;49m)\u001b[39m.\u001b[39;49mpost_from_endpoint(\n\u001b[1;32m   4472\u001b[0m         endpoint, payload, alternate_base_url\u001b[39m=\u001b[39;49malternate_base_url, \u001b[39m*\u001b[39;49m\u001b[39m*\u001b[39;49mkwargs\n\u001b[1;32m   4473\u001b[0m     )\n\u001b[1;32m   4474\u001b[0m     \u001b[39mself\u001b[39m\u001b[39m.\u001b[39mcache_clear_read_endpoints(endpoint, payload)\n\u001b[1;32m   4475\u001b[0m     \u001b[39mif\u001b[39;00m \u001b[39m\"\u001b[39m\u001b[39mparams\u001b[39m\u001b[39m\"\u001b[39m \u001b[39min\u001b[39;00m kwargs:\n",
      "File \u001b[0;32m~/.local/lib/python3.10/site-packages/comet_ml/connection.py:2031\u001b[0m, in \u001b[0;36mBaseApiClient.post_from_endpoint\u001b[0;34m(self, endpoint, payload, alternate_base_url, **kwargs)\u001b[0m\n\u001b[1;32m   2023\u001b[0m \u001b[39mdef\u001b[39;00m \u001b[39mpost_from_endpoint\u001b[39m(\n\u001b[1;32m   2024\u001b[0m     \u001b[39mself\u001b[39m,\n\u001b[1;32m   2025\u001b[0m     endpoint,  \u001b[39m# type: str\u001b[39;00m\n\u001b[0;32m   (...)\u001b[0m\n\u001b[1;32m   2029\u001b[0m ):\n\u001b[1;32m   2030\u001b[0m     \u001b[39m# type: (...) -> requests.Response\u001b[39;00m\n\u001b[0;32m-> 2031\u001b[0m     \u001b[39mreturn\u001b[39;00m \u001b[39mself\u001b[39;49m\u001b[39m.\u001b[39;49m_result_from_http_method(\n\u001b[1;32m   2032\u001b[0m         \u001b[39mself\u001b[39;49m\u001b[39m.\u001b[39;49mpost, endpoint, payload, alternate_base_url, \u001b[39m*\u001b[39;49m\u001b[39m*\u001b[39;49mkwargs\n\u001b[1;32m   2033\u001b[0m     )\n",
      "File \u001b[0;32m~/.local/lib/python3.10/site-packages/comet_ml/connection.py:2053\u001b[0m, in \u001b[0;36mBaseApiClient._result_from_http_method\u001b[0;34m(self, method, endpoint, payload, alternate_base_url, **kwargs)\u001b[0m\n\u001b[1;32m   2047\u001b[0m \u001b[39mdef\u001b[39;00m \u001b[39m_result_from_http_method\u001b[39m(\n\u001b[1;32m   2048\u001b[0m     \u001b[39mself\u001b[39m, method, endpoint, payload, alternate_base_url, \u001b[39m*\u001b[39m\u001b[39m*\u001b[39mkwargs\n\u001b[1;32m   2049\u001b[0m ):\n\u001b[1;32m   2050\u001b[0m     url \u001b[39m=\u001b[39m \u001b[39mself\u001b[39m\u001b[39m.\u001b[39m_endpoint_url(\n\u001b[1;32m   2051\u001b[0m         endpoint\u001b[39m=\u001b[39mendpoint, alternate_base_url\u001b[39m=\u001b[39malternate_base_url\n\u001b[1;32m   2052\u001b[0m     )\n\u001b[0;32m-> 2053\u001b[0m     \u001b[39mreturn\u001b[39;00m method(url, payload, \u001b[39m*\u001b[39;49m\u001b[39m*\u001b[39;49mkwargs)\n",
      "File \u001b[0;32m~/.local/lib/python3.10/site-packages/comet_ml/connection.py:2134\u001b[0m, in \u001b[0;36mRestApiClient.post\u001b[0;34m(self, url, payload, headers, files, params, custom_encoder, compress)\u001b[0m\n\u001b[1;32m   2122\u001b[0m \u001b[39mdef\u001b[39;00m \u001b[39mpost\u001b[39m(\n\u001b[1;32m   2123\u001b[0m     \u001b[39mself\u001b[39m,\n\u001b[1;32m   2124\u001b[0m     url,\n\u001b[0;32m   (...)\u001b[0m\n\u001b[1;32m   2130\u001b[0m     compress\u001b[39m=\u001b[39m\u001b[39mFalse\u001b[39;00m,\n\u001b[1;32m   2131\u001b[0m ):\n\u001b[1;32m   2132\u001b[0m     headers \u001b[39m=\u001b[39m {\u001b[39mself\u001b[39m\u001b[39m.\u001b[39mAPI_KEY_HEADER: \u001b[39mself\u001b[39m\u001b[39m.\u001b[39mapi_key}\n\u001b[0;32m-> 2134\u001b[0m     \u001b[39mreturn\u001b[39;00m \u001b[39msuper\u001b[39;49m(RestApiClient, \u001b[39mself\u001b[39;49m)\u001b[39m.\u001b[39;49mpost(\n\u001b[1;32m   2135\u001b[0m         url,\n\u001b[1;32m   2136\u001b[0m         payload\u001b[39m=\u001b[39;49mpayload,\n\u001b[1;32m   2137\u001b[0m         headers\u001b[39m=\u001b[39;49mheaders,\n\u001b[1;32m   2138\u001b[0m         files\u001b[39m=\u001b[39;49mfiles,\n\u001b[1;32m   2139\u001b[0m         params\u001b[39m=\u001b[39;49mparams,\n\u001b[1;32m   2140\u001b[0m         custom_encoder\u001b[39m=\u001b[39;49mcustom_encoder,\n\u001b[1;32m   2141\u001b[0m         compress\u001b[39m=\u001b[39;49mcompress,\n\u001b[1;32m   2142\u001b[0m     )\n",
      "File \u001b[0;32m~/.local/lib/python3.10/site-packages/comet_ml/connection.py:1998\u001b[0m, in \u001b[0;36mBaseApiClient.post\u001b[0;34m(self, url, payload, headers, files, params, custom_encoder, compress)\u001b[0m\n\u001b[1;32m   1977\u001b[0m \u001b[39mdef\u001b[39;00m \u001b[39mpost\u001b[39m(\n\u001b[1;32m   1978\u001b[0m     \u001b[39mself\u001b[39m,\n\u001b[1;32m   1979\u001b[0m     url,  \u001b[39m# type: str\u001b[39;00m\n\u001b[0;32m   (...)\u001b[0m\n\u001b[1;32m   1986\u001b[0m ):\n\u001b[1;32m   1987\u001b[0m     \u001b[39m# type: (...) -> requests.Response\u001b[39;00m\n\u001b[1;32m   1988\u001b[0m     response \u001b[39m=\u001b[39m \u001b[39mself\u001b[39m\u001b[39m.\u001b[39mlow_level_api_client\u001b[39m.\u001b[39mpost(\n\u001b[1;32m   1989\u001b[0m         url,\n\u001b[1;32m   1990\u001b[0m         payload\u001b[39m=\u001b[39mpayload,\n\u001b[0;32m   (...)\u001b[0m\n\u001b[1;32m   1995\u001b[0m         compress\u001b[39m=\u001b[39mcompress,\n\u001b[1;32m   1996\u001b[0m     )\n\u001b[0;32m-> 1998\u001b[0m     \u001b[39mreturn\u001b[39;00m _check_response_status(response)\n",
      "File \u001b[0;32m~/.local/lib/python3.10/site-packages/comet_ml/connection.py:1902\u001b[0m, in \u001b[0;36m_check_response_status\u001b[0;34m(response, method)\u001b[0m\n\u001b[1;32m   1900\u001b[0m     \u001b[39mraise\u001b[39;00m PaymentRequired(method, response)\n\u001b[1;32m   1901\u001b[0m \u001b[39melse\u001b[39;00m:\n\u001b[0;32m-> 1902\u001b[0m     \u001b[39mraise\u001b[39;00m CometRestApiException(method, response)\n",
      "\u001b[0;31mCometRestApiException\u001b[0m: POST https://www.comet.com/api/rest/v2/write/registry-model/item failed with status code 405: Registry Model Versions must be unique to promote experiment model."
     ]
    }
   ],
   "source": [
    "api= API()\n",
    "experiment = api.get(\"mwanikinjagi/model-tracking/intact_silo_3082\")\n",
    "experiment.register_model(\"model1\")\n"
   ]
  },
  {
   "cell_type": "code",
   "execution_count": 30,
   "metadata": {},
   "outputs": [
    {
     "name": "stdout",
     "output_type": "stream",
     "text": [
      "knc 0.94667 (0.045)\n",
      "dtc 0.94667 (0.016)\n",
      "xgc 0.94667 (0.016)\n",
      "mlp 0.96667 (0.030)\n",
      "lr 0.96667 (0.030)\n",
      "rf 0.95333 (0.040)\n"
     ]
    }
   ],
   "source": [
    "from sklearn.model_selection import cross_val_score\n",
    "from sklearn.neighbors import KNeighborsClassifier\n",
    "from sklearn.tree import DecisionTreeClassifier\n",
    "from xgboost import XGBClassifier\n",
    "from numpy import std\n",
    "from numpy import mean\n",
    "from sklearn.neural_network import MLPClassifier\n",
    "from sklearn.model_selection import StratifiedKFold\n",
    "from sklearn.ensemble import StackingClassifier\n",
    "from sklearn.linear_model import LogisticRegression\n",
    "from sklearn.ensemble import RandomForestClassifier\n",
    "from comet_ml import API, Experiment\n",
    "\n",
    "def model_dict():\n",
    "    models = { 'knc' : KNeighborsClassifier(),\n",
    "               'dtc' : DecisionTreeClassifier(),\n",
    "               'xgc' : XGBClassifier(),\n",
    "               'mlp' : MLPClassifier(max_iter=1000, random_state = 0),\n",
    "               'lr'  : LogisticRegression(max_iter=500),\n",
    "               'rf'  : RandomForestClassifier()\n",
    "             }\n",
    "    return models\n",
    "\n",
    "def cross_val_eval(model, X, y):\n",
    "    cv = StratifiedKFold(n_splits=5, shuffle=True, random_state=5)\n",
    "    cv_scores = cross_val_score(model, X, y, cv = cv, scoring='accuracy', n_jobs=-1, error_score='raise')\n",
    "    return cv_scores\n",
    "\n",
    "models = model_dict()\n",
    "\n",
    "#model evaluation\n",
    "results, names = list(), list()\n",
    "for name, model in models.items():\n",
    "    scores = cross_val_eval(model, X, y)\n",
    "    results.append(scores)\n",
    "    names.append(names)\n",
    "    print('%s %.5f (%.3f)' % (name, mean(scores), std(scores)))\n",
    "    \n"
   ]
  },
  {
   "cell_type": "code",
   "execution_count": 34,
   "metadata": {},
   "outputs": [
    {
     "name": "stdout",
     "output_type": "stream",
     "text": [
      ">knc 0.947 (0.045)\n",
      ">dtc 0.947 (0.016)\n",
      ">xgc 0.947 (0.016)\n",
      ">mlp 0.967 (0.030)\n",
      ">rfc 0.953 (0.040)\n"
     ]
    }
   ],
   "source": [
    "\n",
    "def get_models():\n",
    "    models = dict()\n",
    "    models['knc'] = KNeighborsClassifier()\n",
    "    models['dtc'] = DecisionTreeClassifier()\n",
    "    models['xgc'] = XGBClassifier()\n",
    "    models['mlp'] = MLPClassifier(max_iter=1000, random_state = 0)  \n",
    "    models['rfc'] = RandomForestClassifier()   \n",
    "    return models\n",
    "\n",
    "models = get_models()\n",
    "\n",
    "model1 = MLPClassifier(max_iter=1000, random_state = 0)\n",
    "\n",
    "model1.fit(X, y)\n",
    "dump(model1, \"model1.joblib\")\n",
    "\n",
    "results, names = list(), list()\n",
    "for name, model in models.items():\n",
    "    scores = cross_val_eval(model, X, y)\n",
    "    results.append(scores)\n",
    "    names.append(names)\n",
    "    print('>%s %.3f (%.3f)' % (name, mean(scores), std(scores)))\n",
    "\n",
    "\n"
   ]
  },
  {
   "cell_type": "code",
   "execution_count": 40,
   "metadata": {},
   "outputs": [
    {
     "name": "stderr",
     "output_type": "stream",
     "text": [
      "COMET WARNING: Comet has disabled auto-logging functionality as it has been imported after the following ML modules: sklearn. Metrics and hyperparameters can still be logged using Experiment.log_metrics() and Experiment.log_parameters()\n",
      "COMET WARNING: As you are running in a Jupyter environment, you will need to call `experiment.end()` when finished to ensure all metrics and code are logged before exiting.\n",
      "COMET INFO: Couldn't find a Git repository in '/home/mwaniki-new/Documents/Stacking' nor in any parent directory. You can override where Comet is looking for a Git Patch by setting the configuration `COMET_GIT_DIRECTORY`\n",
      "COMET INFO: Experiment is live on comet.com https://www.comet.com/mwanikinjagi/model-tracking/8fc4efdf1aac4bf496fb732be9c45702\n",
      "\n",
      "COMET INFO: ---------------------------\n",
      "COMET INFO: Comet.ml Experiment Summary\n",
      "COMET INFO: ---------------------------\n",
      "COMET INFO:   Data:\n",
      "COMET INFO:     display_summary_level : 1\n",
      "COMET INFO:     url                   : https://www.comet.com/mwanikinjagi/model-tracking/8fc4efdf1aac4bf496fb732be9c45702\n",
      "COMET INFO:   Uploads:\n",
      "COMET INFO:     environment details : 1\n",
      "COMET INFO:     filename            : 1\n",
      "COMET INFO:     installed packages  : 1\n",
      "COMET INFO:     model-element       : 1 (33.24 KB)\n",
      "COMET INFO:     notebook            : 1\n",
      "COMET INFO:     os packages         : 1\n",
      "COMET INFO:     source_code         : 1\n",
      "COMET INFO: ---------------------------\n",
      "COMET WARNING: Comet has disabled auto-logging functionality as it has been imported after the following ML modules: sklearn. Metrics and hyperparameters can still be logged using Experiment.log_metrics() and Experiment.log_parameters()\n",
      "COMET INFO: Uploading 1 metrics, params and output messages\n",
      "COMET INFO: Waiting for completion of the file uploads (may take several seconds)\n",
      "COMET INFO: The Python SDK has 10800 seconds to finish before aborting...\n",
      "COMET INFO: All files uploaded, waiting for confirmation they have been all received\n"
     ]
    }
   ],
   "source": [
    "\n",
    "experiment = Experiment()\n",
    "api = API()\n",
    "experiment.log_model(\"model1\", \"/home/mwaniki-new/Documents/Stacking/model1.joblib\")\n",
    "experiment.end()\n"
   ]
  },
  {
   "cell_type": "code",
   "execution_count": 41,
   "metadata": {},
   "outputs": [
    {
     "name": "stderr",
     "output_type": "stream",
     "text": [
      "COMET INFO: Successfully registered 'model1', version '1.1.0' in workspace 'mwanikinjagi'\n"
     ]
    }
   ],
   "source": [
    "experiment = api.get(\"mwanikinjagi/model-tracking/intact_krill_7478\")\n",
    "experiment.register_model(model_name=\"model1\", version=\"1.1.0\")\n",
    "experiment.end()"
   ]
  }
 ],
 "metadata": {
  "kernelspec": {
   "display_name": "Python 3",
   "language": "python",
   "name": "python3"
  },
  "language_info": {
   "codemirror_mode": {
    "name": "ipython",
    "version": 3
   },
   "file_extension": ".py",
   "mimetype": "text/x-python",
   "name": "python",
   "nbconvert_exporter": "python",
   "pygments_lexer": "ipython3",
   "version": "3.10.6 (main, Nov 14 2022, 16:10:14) [GCC 11.3.0]"
  },
  "orig_nbformat": 4,
  "vscode": {
   "interpreter": {
    "hash": "916dbcbb3f70747c44a77c7bcd40155683ae19c65e1c03b4aa3499c5328201f1"
   }
  }
 },
 "nbformat": 4,
 "nbformat_minor": 2
}
